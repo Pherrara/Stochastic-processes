{
 "cells": [
  {
   "cell_type": "code",
   "execution_count": null,
   "id": "79378a30-e083-427b-b83c-1096c94049f7",
   "metadata": {},
   "outputs": [],
   "source": [
    "#\"Risken - Fokker-PLanck equation\" è il libro"
   ]
  }
 ],
 "metadata": {
  "kernelspec": {
   "display_name": "Python 3 (ipykernel)",
   "language": "python",
   "name": "python3"
  },
  "language_info": {
   "codemirror_mode": {
    "name": "ipython",
    "version": 3
   },
   "file_extension": ".py",
   "mimetype": "text/x-python",
   "name": "python",
   "nbconvert_exporter": "python",
   "pygments_lexer": "ipython3",
   "version": "3.10.6"
  }
 },
 "nbformat": 4,
 "nbformat_minor": 5
}
