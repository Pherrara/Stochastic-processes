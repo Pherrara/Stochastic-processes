{
 "cells": [
  {
   "cell_type": "code",
   "execution_count": 1,
   "id": "49cf476c-5914-49f0-9c0d-aaf1991dd99f",
   "metadata": {},
   "outputs": [
    {
     "name": "stdin",
     "output_type": "stream",
     "text": [
      " 10\n"
     ]
    },
    {
     "name": "stdout",
     "output_type": "stream",
     "text": [
      "[ 7. 10.  3.  1.  6.  4.  2.  8.  2.  1.]\n"
     ]
    }
   ],
   "source": [
    "#algoritmo di bootstrap (shuffle con ripetizioni ammesse) di un array np\n",
    "import numpy as np\n",
    "import random\n",
    "\n",
    "N = int(input())\n",
    "a = np.arange(N)\n",
    "a += 1\n",
    "b = np.zeros(N)\n",
    "ae = 0\n",
    "\n",
    "for i in range(N):\n",
    "    ae = random.randint(1,N)\n",
    "    b[i] = ae\n",
    "\n",
    "print(b)"
   ]
  }
 ],
 "metadata": {
  "kernelspec": {
   "display_name": "Python 3 (ipykernel)",
   "language": "python",
   "name": "python3"
  },
  "language_info": {
   "codemirror_mode": {
    "name": "ipython",
    "version": 3
   },
   "file_extension": ".py",
   "mimetype": "text/x-python",
   "name": "python",
   "nbconvert_exporter": "python",
   "pygments_lexer": "ipython3",
   "version": "3.10.6"
  }
 },
 "nbformat": 4,
 "nbformat_minor": 5
}
