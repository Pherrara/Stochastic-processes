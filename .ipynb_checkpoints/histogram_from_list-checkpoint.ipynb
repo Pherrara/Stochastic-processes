{
 "cells": [
  {
   "cell_type": "code",
   "execution_count": 27,
   "id": "49f6a986-dc24-4588-a9b7-21dcf8cdb1dd",
   "metadata": {},
   "outputs": [
    {
     "data": {
      "text/plain": [
       "(array([2.0000e+00, 1.0000e+00, 3.0000e+00, 1.0000e+00, 2.0000e+00,\n",
       "        4.0000e+00, 5.0000e+00, 5.0000e+00, 9.0000e+00, 1.0000e+01,\n",
       "        2.8000e+01, 3.8000e+01, 4.4000e+01, 6.5000e+01, 1.0500e+02,\n",
       "        1.3400e+02, 1.7300e+02, 2.4700e+02, 3.5200e+02, 4.1400e+02,\n",
       "        5.4800e+02, 7.0300e+02, 9.1800e+02, 1.2420e+03, 1.5720e+03,\n",
       "        2.0260e+03, 2.6130e+03, 3.1840e+03, 4.0480e+03, 4.7660e+03,\n",
       "        5.9650e+03, 6.9890e+03, 8.3830e+03, 9.8930e+03, 1.1738e+04,\n",
       "        1.3611e+04, 1.5229e+04, 1.7433e+04, 1.9594e+04, 2.1978e+04,\n",
       "        2.3942e+04, 2.6451e+04, 2.8345e+04, 3.0491e+04, 3.2791e+04,\n",
       "        3.4397e+04, 3.5793e+04, 3.6499e+04, 3.7924e+04, 3.8321e+04,\n",
       "        3.8327e+04, 3.8225e+04, 3.7952e+04, 3.7110e+04, 3.5792e+04,\n",
       "        3.4373e+04, 3.2651e+04, 3.0630e+04, 2.8897e+04, 2.6576e+04,\n",
       "        2.4466e+04, 2.1962e+04, 1.9962e+04, 1.7705e+04, 1.5457e+04,\n",
       "        1.3603e+04, 1.1605e+04, 1.0103e+04, 8.5670e+03, 7.2670e+03,\n",
       "        5.9910e+03, 4.8500e+03, 4.0540e+03, 3.2250e+03, 2.6540e+03,\n",
       "        2.1260e+03, 1.6060e+03, 1.2790e+03, 1.0220e+03, 7.8700e+02,\n",
       "        5.7100e+02, 4.6800e+02, 3.2600e+02, 2.3100e+02, 1.6500e+02,\n",
       "        1.1400e+02, 7.7000e+01, 5.4000e+01, 4.0000e+01, 2.7000e+01,\n",
       "        2.2000e+01, 1.4000e+01, 1.7000e+01, 7.0000e+00, 3.0000e+00,\n",
       "        8.0000e+00, 1.0000e+00, 1.0000e+00, 0.0000e+00, 1.0000e+00]),\n",
       " array([-9.77824103, -9.58478465, -9.39132826, -9.19787188, -9.0044155 ,\n",
       "        -8.81095912, -8.61750274, -8.42404636, -8.23058997, -8.03713359,\n",
       "        -7.84367721, -7.65022083, -7.45676445, -7.26330807, -7.06985168,\n",
       "        -6.8763953 , -6.68293892, -6.48948254, -6.29602616, -6.10256978,\n",
       "        -5.90911339, -5.71565701, -5.52220063, -5.32874425, -5.13528787,\n",
       "        -4.94183149, -4.7483751 , -4.55491872, -4.36146234, -4.16800596,\n",
       "        -3.97454958, -3.7810932 , -3.58763681, -3.39418043, -3.20072405,\n",
       "        -3.00726767, -2.81381129, -2.6203549 , -2.42689852, -2.23344214,\n",
       "        -2.03998576, -1.84652938, -1.653073  , -1.45961661, -1.26616023,\n",
       "        -1.07270385, -0.87924747, -0.68579109, -0.49233471, -0.29887832,\n",
       "        -0.10542194,  0.08803444,  0.28149082,  0.4749472 ,  0.66840358,\n",
       "         0.86185997,  1.05531635,  1.24877273,  1.44222911,  1.63568549,\n",
       "         1.82914187,  2.02259826,  2.21605464,  2.40951102,  2.6029674 ,\n",
       "         2.79642378,  2.98988016,  3.18333655,  3.37679293,  3.57024931,\n",
       "         3.76370569,  3.95716207,  4.15061845,  4.34407484,  4.53753122,\n",
       "         4.7309876 ,  4.92444398,  5.11790036,  5.31135674,  5.50481313,\n",
       "         5.69826951,  5.89172589,  6.08518227,  6.27863865,  6.47209503,\n",
       "         6.66555142,  6.8590078 ,  7.05246418,  7.24592056,  7.43937694,\n",
       "         7.63283332,  7.82628971,  8.01974609,  8.21320247,  8.40665885,\n",
       "         8.60011523,  8.79357161,  8.987028  ,  9.18048438,  9.37394076,\n",
       "         9.56739714]),\n",
       " <BarContainer object of 100 artists>)"
      ]
     },
     "execution_count": 27,
     "metadata": {},
     "output_type": "execute_result"
    },
    {
     "data": {
      "image/png": "[encoded data removed]",
      "text/plain": [
       "<Figure size 432x288 with 1 Axes>"
      ]
     },
     "metadata": {
      "needs_background": "light"
     },
     "output_type": "display_data"
    }
   ],
   "source": [
    "import random\n",
    "import matplotlib.pyplot as plt\n",
    "\n",
    "rlist = np.array([])\n",
    "for i in range (0,1000000):\n",
    "    rlist.append(random.gauss(0,2))\n",
    "\n",
    "#plt.plot(rlist)\n",
    "\n",
    "plt.hist(rlist,100)"
   ]
  }
 ],
 "metadata": {
  "kernelspec": {
   "display_name": "Python 3 (ipykernel)",
   "language": "python",
   "name": "python3"
  },
  "language_info": {
   "codemirror_mode": {
    "name": "ipython",
    "version": 3
   },
   "file_extension": ".py",
   "mimetype": "text/x-python",
   "name": "python",
   "nbconvert_exporter": "python",
   "pygments_lexer": "ipython3",
   "version": "3.9.7"
  }
 },
 "nbformat": 4,
 "nbformat_minor": 5
}
