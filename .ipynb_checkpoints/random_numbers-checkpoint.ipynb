{
 "cells": [
  {
   "cell_type": "code",
   "execution_count": null,
   "id": "03557340-2d45-4ac9-901c-80fa4f98b6c7",
   "metadata": {},
   "outputs": [],
   "source": [
    "#this is how we generate a random number"
   ]
  },
  {
   "cell_type": "code",
   "execution_count": null,
   "id": "b8e037bc-f7e0-491d-98b8-ad6a7aaf8d79",
   "metadata": {},
   "outputs": [],
   "source": [
    "import random\n",
    "n = random.random()\n",
    "print(n)"
   ]
  },
  {
   "cell_type": "code",
   "execution_count": null,
   "id": "805f17d9-c46a-4408-92ba-b8dcfecda3d9",
   "metadata": {},
   "outputs": [],
   "source": [
    "#this is how we generate a random number in range, IT CAN GO FROM A TO B"
   ]
  },
  {
   "cell_type": "code",
   "execution_count": null,
   "id": "590361ac-107f-435d-bedd-71d76987825e",
   "metadata": {},
   "outputs": [],
   "source": [
    "n = random.randint(0,2)\n",
    "print(n)"
   ]
  },
  {
   "cell_type": "code",
   "execution_count": null,
   "id": "8950d469-b7f7-479b-9e9e-57f601d7dc24",
   "metadata": {},
   "outputs": [],
   "source": [
    "#this is how we generate a random list, EVERY NUMBER IS DIFFERENT AND NOT REPEATED"
   ]
  },
  {
   "cell_type": "code",
   "execution_count": null,
   "id": "e760da0c-771d-4a90-afa8-c096e45fd2da",
   "metadata": {},
   "outputs": [],
   "source": [
    "rlist = random.sample(range(0,10),10)\n",
    "print(rlist)"
   ]
  },
  {
   "cell_type": "code",
   "execution_count": null,
   "id": "a5d9c9ae-a11c-49e8-a50e-a4d55af587aa",
   "metadata": {},
   "outputs": [],
   "source": [
    "#or we can use a for loop to have them repated"
   ]
  },
  {
   "cell_type": "code",
   "execution_count": null,
   "id": "706d7bf8-2bee-4fd2-a024-6911b13b2102",
   "metadata": {},
   "outputs": [],
   "source": [
    "rlis = []\n",
    "for i in range (0,10):\n",
    "    rlis.append(random.randint(0,10))\n",
    "print(rlis)"
   ]
  },
  {
   "cell_type": "code",
   "execution_count": null,
   "id": "3521c7bf-921d-45b9-958c-62dd8b51ebbb",
   "metadata": {},
   "outputs": [],
   "source": [
    "#we can generate a number from a gaussian, random.gauss(mean,sigma)\n",
    "#sigma is the variance"
   ]
  },
  {
   "cell_type": "code",
   "execution_count": null,
   "id": "4370c609-ec1b-4eb6-9147-5af7551dec9a",
   "metadata": {},
   "outputs": [],
   "source": [
    "g = random.gauss(10, 2)\n",
    "print(g)"
   ]
  }
 ],
 "metadata": {
  "kernelspec": {
   "display_name": "Python 3 (ipykernel)",
   "language": "python",
   "name": "python3"
  },
  "language_info": {
   "codemirror_mode": {
    "name": "ipython",
    "version": 3
   },
   "file_extension": ".py",
   "mimetype": "text/x-python",
   "name": "python",
   "nbconvert_exporter": "python",
   "pygments_lexer": "ipython3",
   "version": "3.9.7"
  }
 },
 "nbformat": 4,
 "nbformat_minor": 5
}
