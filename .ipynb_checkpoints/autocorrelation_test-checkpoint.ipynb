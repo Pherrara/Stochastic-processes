{
 "cells": [
  {
   "cell_type": "code",
   "execution_count": 2,
   "id": "dae8b842-305a-45d3-b9ba-eadf2e3e3050",
   "metadata": {},
   "outputs": [
    {
     "data": {
      "text/plain": [
       "(-0.07919074185403221, 1.0)"
      ]
     },
     "execution_count": 2,
     "metadata": {},
     "output_type": "execute_result"
    },
    {
     "data": {
      "image/png": "[encoded data removed]",
      "text/plain": [
       "<Figure size 432x288 with 1 Axes>"
      ]
     },
     "metadata": {
      "needs_background": "light"
     },
     "output_type": "display_data"
    }
   ],
   "source": [
    "import numpy as np\n",
    "import random\n",
    "import matplotlib.pyplot as plt\n",
    "\n",
    "N = 10000\n",
    "\n",
    "data = np.zeros(N)\n",
    "\n",
    "for i in range (0,N):\n",
    "    data[i] = random.gauss(0,2)\n",
    "    \n",
    "plt.acorr(data,maxlags=100)\n",
    "#plt.yscale('log')\n",
    "plt.xlim(left=0)\n",
    "plt.ylim(top=1) #questo limita l'asse x"
   ]
  }
 ],
 "metadata": {
  "kernelspec": {
   "display_name": "Python 3 (ipykernel)",
   "language": "python",
   "name": "python3"
  },
  "language_info": {
   "codemirror_mode": {
    "name": "ipython",
    "version": 3
   },
   "file_extension": ".py",
   "mimetype": "text/x-python",
   "name": "python",
   "nbconvert_exporter": "python",
   "pygments_lexer": "ipython3",
   "version": "3.10.6"
  }
 },
 "nbformat": 4,
 "nbformat_minor": 5
}
