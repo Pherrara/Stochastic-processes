{
 "cells": [
  {
   "cell_type": "code",
   "execution_count": 4,
   "id": "49f6a986-dc24-4588-a9b7-21dcf8cdb1dd",
   "metadata": {},
   "outputs": [
    {
     "data": {
      "text/plain": [
       "(array([ 1.,  1.,  1.,  0.,  0.,  0.,  0.,  0.,  1.,  1.,  0.,  4.,  2.,\n",
       "         1.,  2.,  2.,  2.,  7.,  2.,  4.,  5.,  8.,  2.,  6.,  9.,  7.,\n",
       "         5.,  7.,  6.,  6., 14.,  8., 14., 14., 27., 13., 21., 15., 17.,\n",
       "        20., 23., 26., 18., 20., 27., 30., 28., 31., 29., 22., 23., 31.,\n",
       "        25., 36., 27., 24., 24., 21., 20., 25., 17., 17., 18., 16., 17.,\n",
       "        18., 16., 13., 12.,  9.,  9.,  5.,  4.,  6., 10.,  7.,  9.,  5.,\n",
       "         4.,  4.,  3.,  4.,  1.,  2.,  1.,  3.,  1.,  1.,  0.,  1.,  0.,\n",
       "         0.,  0.,  0.,  0.,  0.,  0.,  1.,  0.,  1.]),\n",
       " array([-6.71062677, -6.57730637, -6.44398597, -6.31066557, -6.17734517,\n",
       "        -6.04402477, -5.91070437, -5.77738398, -5.64406358, -5.51074318,\n",
       "        -5.37742278, -5.24410238, -5.11078198, -4.97746158, -4.84414118,\n",
       "        -4.71082078, -4.57750038, -4.44417998, -4.31085958, -4.17753918,\n",
       "        -4.04421878, -3.91089838, -3.77757798, -3.64425758, -3.51093718,\n",
       "        -3.37761679, -3.24429639, -3.11097599, -2.97765559, -2.84433519,\n",
       "        -2.71101479, -2.57769439, -2.44437399, -2.31105359, -2.17773319,\n",
       "        -2.04441279, -1.91109239, -1.77777199, -1.64445159, -1.51113119,\n",
       "        -1.37781079, -1.24449039, -1.11116999, -0.9778496 , -0.8445292 ,\n",
       "        -0.7112088 , -0.5778884 , -0.444568  , -0.3112476 , -0.1779272 ,\n",
       "        -0.0446068 ,  0.0887136 ,  0.222034  ,  0.3553544 ,  0.4886748 ,\n",
       "         0.6219952 ,  0.7553156 ,  0.888636  ,  1.0219564 ,  1.1552768 ,\n",
       "         1.2885972 ,  1.42191759,  1.55523799,  1.68855839,  1.82187879,\n",
       "         1.95519919,  2.08851959,  2.22183999,  2.35516039,  2.48848079,\n",
       "         2.62180119,  2.75512159,  2.88844199,  3.02176239,  3.15508279,\n",
       "         3.28840319,  3.42172359,  3.55504399,  3.68836439,  3.82168478,\n",
       "         3.95500518,  4.08832558,  4.22164598,  4.35496638,  4.48828678,\n",
       "         4.62160718,  4.75492758,  4.88824798,  5.02156838,  5.15488878,\n",
       "         5.28820918,  5.42152958,  5.55484998,  5.68817038,  5.82149078,\n",
       "         5.95481118,  6.08813158,  6.22145197,  6.35477237,  6.48809277,\n",
       "         6.62141317]),\n",
       " <BarContainer object of 100 artists>)"
      ]
     },
     "execution_count": 4,
     "metadata": {},
     "output_type": "execute_result"
    },
    {
     "data": {
      "image/png": "[encoded data removed]",
      "text/plain": [
       "<Figure size 432x288 with 1 Axes>"
      ]
     },
     "metadata": {
      "needs_background": "light"
     },
     "output_type": "display_data"
    }
   ],
   "source": [
    "import random\n",
    "import matplotlib.pyplot as plt\n",
    "import numpy as np\n",
    "\n",
    "rlist = []\n",
    "for i in range (0,1000):\n",
    "    rlist.append(random.gauss(0,2))\n",
    "\n",
    "#plt.plot(rlist)\n",
    "\n",
    "plt.hist(rlist,100)"
   ]
  }
 ],
 "metadata": {
  "kernelspec": {
   "display_name": "Python 3 (ipykernel)",
   "language": "python",
   "name": "python3"
  },
  "language_info": {
   "codemirror_mode": {
    "name": "ipython",
    "version": 3
   },
   "file_extension": ".py",
   "mimetype": "text/x-python",
   "name": "python",
   "nbconvert_exporter": "python",
   "pygments_lexer": "ipython3",
   "version": "3.9.7"
  }
 },
 "nbformat": 4,
 "nbformat_minor": 5
}
